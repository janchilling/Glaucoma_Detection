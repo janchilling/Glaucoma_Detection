{
  "nbformat": 4,
  "nbformat_minor": 0,
  "metadata": {
    "colab": {
      "provenance": [],
      "gpuType": "T4",
      "authorship_tag": "ABX9TyMZV/B3b49vJnkBxcXv5a9s",
      "include_colab_link": true
    },
    "kernelspec": {
      "name": "python3",
      "display_name": "Python 3"
    },
    "language_info": {
      "name": "python"
    },
    "accelerator": "GPU"
  },
  "cells": [
    {
      "cell_type": "markdown",
      "metadata": {
        "id": "view-in-github",
        "colab_type": "text"
      },
      "source": [
        "<a href=\"https://colab.research.google.com/github/janchilling/Glaucoma_Detection/blob/main/Glaucoma_Detection.ipynb\" target=\"_parent\"><img src=\"https://colab.research.google.com/assets/colab-badge.svg\" alt=\"Open In Colab\"/></a>"
      ]
    },
    {
      "cell_type": "code",
      "execution_count": 1,
      "metadata": {
        "colab": {
          "base_uri": "https://localhost:8080/",
          "height": 91
        },
        "id": "eJ3nBgb25s7W",
        "outputId": "b569ae03-7d44-491f-c5c5-f8d5662804e5"
      },
      "outputs": [
        {
          "output_type": "display_data",
          "data": {
            "text/plain": [
              "<IPython.core.display.HTML object>"
            ],
            "text/html": [
              "\n",
              "     <input type=\"file\" id=\"files-2bf01465-1ec5-4543-853f-18607ffc1326\" name=\"files[]\" multiple disabled\n",
              "        style=\"border:none\" />\n",
              "     <output id=\"result-2bf01465-1ec5-4543-853f-18607ffc1326\">\n",
              "      Upload widget is only available when the cell has been executed in the\n",
              "      current browser session. Please rerun this cell to enable.\n",
              "      </output>\n",
              "      <script>// Copyright 2017 Google LLC\n",
              "//\n",
              "// Licensed under the Apache License, Version 2.0 (the \"License\");\n",
              "// you may not use this file except in compliance with the License.\n",
              "// You may obtain a copy of the License at\n",
              "//\n",
              "//      http://www.apache.org/licenses/LICENSE-2.0\n",
              "//\n",
              "// Unless required by applicable law or agreed to in writing, software\n",
              "// distributed under the License is distributed on an \"AS IS\" BASIS,\n",
              "// WITHOUT WARRANTIES OR CONDITIONS OF ANY KIND, either express or implied.\n",
              "// See the License for the specific language governing permissions and\n",
              "// limitations under the License.\n",
              "\n",
              "/**\n",
              " * @fileoverview Helpers for google.colab Python module.\n",
              " */\n",
              "(function(scope) {\n",
              "function span(text, styleAttributes = {}) {\n",
              "  const element = document.createElement('span');\n",
              "  element.textContent = text;\n",
              "  for (const key of Object.keys(styleAttributes)) {\n",
              "    element.style[key] = styleAttributes[key];\n",
              "  }\n",
              "  return element;\n",
              "}\n",
              "\n",
              "// Max number of bytes which will be uploaded at a time.\n",
              "const MAX_PAYLOAD_SIZE = 100 * 1024;\n",
              "\n",
              "function _uploadFiles(inputId, outputId) {\n",
              "  const steps = uploadFilesStep(inputId, outputId);\n",
              "  const outputElement = document.getElementById(outputId);\n",
              "  // Cache steps on the outputElement to make it available for the next call\n",
              "  // to uploadFilesContinue from Python.\n",
              "  outputElement.steps = steps;\n",
              "\n",
              "  return _uploadFilesContinue(outputId);\n",
              "}\n",
              "\n",
              "// This is roughly an async generator (not supported in the browser yet),\n",
              "// where there are multiple asynchronous steps and the Python side is going\n",
              "// to poll for completion of each step.\n",
              "// This uses a Promise to block the python side on completion of each step,\n",
              "// then passes the result of the previous step as the input to the next step.\n",
              "function _uploadFilesContinue(outputId) {\n",
              "  const outputElement = document.getElementById(outputId);\n",
              "  const steps = outputElement.steps;\n",
              "\n",
              "  const next = steps.next(outputElement.lastPromiseValue);\n",
              "  return Promise.resolve(next.value.promise).then((value) => {\n",
              "    // Cache the last promise value to make it available to the next\n",
              "    // step of the generator.\n",
              "    outputElement.lastPromiseValue = value;\n",
              "    return next.value.response;\n",
              "  });\n",
              "}\n",
              "\n",
              "/**\n",
              " * Generator function which is called between each async step of the upload\n",
              " * process.\n",
              " * @param {string} inputId Element ID of the input file picker element.\n",
              " * @param {string} outputId Element ID of the output display.\n",
              " * @return {!Iterable<!Object>} Iterable of next steps.\n",
              " */\n",
              "function* uploadFilesStep(inputId, outputId) {\n",
              "  const inputElement = document.getElementById(inputId);\n",
              "  inputElement.disabled = false;\n",
              "\n",
              "  const outputElement = document.getElementById(outputId);\n",
              "  outputElement.innerHTML = '';\n",
              "\n",
              "  const pickedPromise = new Promise((resolve) => {\n",
              "    inputElement.addEventListener('change', (e) => {\n",
              "      resolve(e.target.files);\n",
              "    });\n",
              "  });\n",
              "\n",
              "  const cancel = document.createElement('button');\n",
              "  inputElement.parentElement.appendChild(cancel);\n",
              "  cancel.textContent = 'Cancel upload';\n",
              "  const cancelPromise = new Promise((resolve) => {\n",
              "    cancel.onclick = () => {\n",
              "      resolve(null);\n",
              "    };\n",
              "  });\n",
              "\n",
              "  // Wait for the user to pick the files.\n",
              "  const files = yield {\n",
              "    promise: Promise.race([pickedPromise, cancelPromise]),\n",
              "    response: {\n",
              "      action: 'starting',\n",
              "    }\n",
              "  };\n",
              "\n",
              "  cancel.remove();\n",
              "\n",
              "  // Disable the input element since further picks are not allowed.\n",
              "  inputElement.disabled = true;\n",
              "\n",
              "  if (!files) {\n",
              "    return {\n",
              "      response: {\n",
              "        action: 'complete',\n",
              "      }\n",
              "    };\n",
              "  }\n",
              "\n",
              "  for (const file of files) {\n",
              "    const li = document.createElement('li');\n",
              "    li.append(span(file.name, {fontWeight: 'bold'}));\n",
              "    li.append(span(\n",
              "        `(${file.type || 'n/a'}) - ${file.size} bytes, ` +\n",
              "        `last modified: ${\n",
              "            file.lastModifiedDate ? file.lastModifiedDate.toLocaleDateString() :\n",
              "                                    'n/a'} - `));\n",
              "    const percent = span('0% done');\n",
              "    li.appendChild(percent);\n",
              "\n",
              "    outputElement.appendChild(li);\n",
              "\n",
              "    const fileDataPromise = new Promise((resolve) => {\n",
              "      const reader = new FileReader();\n",
              "      reader.onload = (e) => {\n",
              "        resolve(e.target.result);\n",
              "      };\n",
              "      reader.readAsArrayBuffer(file);\n",
              "    });\n",
              "    // Wait for the data to be ready.\n",
              "    let fileData = yield {\n",
              "      promise: fileDataPromise,\n",
              "      response: {\n",
              "        action: 'continue',\n",
              "      }\n",
              "    };\n",
              "\n",
              "    // Use a chunked sending to avoid message size limits. See b/62115660.\n",
              "    let position = 0;\n",
              "    do {\n",
              "      const length = Math.min(fileData.byteLength - position, MAX_PAYLOAD_SIZE);\n",
              "      const chunk = new Uint8Array(fileData, position, length);\n",
              "      position += length;\n",
              "\n",
              "      const base64 = btoa(String.fromCharCode.apply(null, chunk));\n",
              "      yield {\n",
              "        response: {\n",
              "          action: 'append',\n",
              "          file: file.name,\n",
              "          data: base64,\n",
              "        },\n",
              "      };\n",
              "\n",
              "      let percentDone = fileData.byteLength === 0 ?\n",
              "          100 :\n",
              "          Math.round((position / fileData.byteLength) * 100);\n",
              "      percent.textContent = `${percentDone}% done`;\n",
              "\n",
              "    } while (position < fileData.byteLength);\n",
              "  }\n",
              "\n",
              "  // All done.\n",
              "  yield {\n",
              "    response: {\n",
              "      action: 'complete',\n",
              "    }\n",
              "  };\n",
              "}\n",
              "\n",
              "scope.google = scope.google || {};\n",
              "scope.google.colab = scope.google.colab || {};\n",
              "scope.google.colab._files = {\n",
              "  _uploadFiles,\n",
              "  _uploadFilesContinue,\n",
              "};\n",
              "})(self);\n",
              "</script> "
            ]
          },
          "metadata": {}
        },
        {
          "output_type": "stream",
          "name": "stdout",
          "text": [
            "Saving kaggle.json to kaggle.json\n"
          ]
        },
        {
          "output_type": "execute_result",
          "data": {
            "text/plain": [
              "{'kaggle.json': b'{\"username\":\"keshanpathirana\",\"key\":\"4eb543880604d03ef1bad51dde835e7b\"}'}"
            ]
          },
          "metadata": {},
          "execution_count": 1
        }
      ],
      "source": [
        "from google.colab import files\n",
        "files.upload()"
      ]
    },
    {
      "cell_type": "code",
      "source": [
        "!rm -r ~/.kaggle\n",
        "!mkdir ~/.kaggle\n",
        "!mv ./kaggle.json ~/.kaggle/\n",
        "!chmod 600 ~/.kaggle/kaggle.json"
      ],
      "metadata": {
        "colab": {
          "base_uri": "https://localhost:8080/"
        },
        "id": "YugM_6OT6eVc",
        "outputId": "0668e3e6-2281-47b7-cc93-aac5c4811665"
      },
      "execution_count": 2,
      "outputs": [
        {
          "output_type": "stream",
          "name": "stdout",
          "text": [
            "rm: cannot remove '/root/.kaggle': No such file or directory\n"
          ]
        }
      ]
    },
    {
      "cell_type": "code",
      "source": [
        "!kaggle datasets download -d deathtrooper/multichannel-glaucoma-benchmark-dataset"
      ],
      "metadata": {
        "colab": {
          "base_uri": "https://localhost:8080/"
        },
        "id": "TTEwfNiEMYV9",
        "outputId": "fa677507-6b12-4742-d026-67a9bc4f5713"
      },
      "execution_count": 3,
      "outputs": [
        {
          "output_type": "stream",
          "name": "stdout",
          "text": [
            "Downloading multichannel-glaucoma-benchmark-dataset.zip to /content\n",
            "100% 2.92G/2.93G [00:36<00:00, 108MB/s] \n",
            "100% 2.93G/2.93G [00:36<00:00, 85.4MB/s]\n"
          ]
        }
      ]
    },
    {
      "cell_type": "code",
      "source": [
        "!unzip -qq multichannel-glaucoma-benchmark-dataset.zip"
      ],
      "metadata": {
        "id": "zb0TBkW1jihU"
      },
      "execution_count": 4,
      "outputs": []
    },
    {
      "cell_type": "code",
      "source": [
        "import pandas as pd\n",
        "\n",
        "dataframe = pd.read_csv(\"/content/metadata - standardized.csv\")\n",
        "dataframe.head()"
      ],
      "metadata": {
        "colab": {
          "base_uri": "https://localhost:8080/",
          "height": 689
        },
        "id": "bADNE0tikqM1",
        "outputId": "2fe9182e-774a-41bd-92ce-80312937e1ab"
      },
      "execution_count": 5,
      "outputs": [
        {
          "output_type": "execute_result",
          "data": {
            "text/plain": [
              "                     names  types type_expanded  isColor   original_name  \\\n",
              "0  OIA-ODIR-TEST-OFFLINE-1      0           NaN        1  1029_right.jpg   \n",
              "1  OIA-ODIR-TEST-OFFLINE-2      0           NaN        1   1049_left.jpg   \n",
              "2  OIA-ODIR-TEST-OFFLINE-4      0           NaN        1   1128_left.jpg   \n",
              "3  OIA-ODIR-TEST-OFFLINE-5      0           NaN        1  1179_right.jpg   \n",
              "4  OIA-ODIR-TEST-OFFLINE-6      0           NaN        1   1180_left.jpg   \n",
              "\n",
              "  patient_id                                    fundus fundus_od_seg  \\\n",
              "0        NaN  /full-fundus/OIA-ODIR-TEST-OFFLINE-1.png           NaN   \n",
              "1        NaN  /full-fundus/OIA-ODIR-TEST-OFFLINE-2.png           NaN   \n",
              "2        NaN  /full-fundus/OIA-ODIR-TEST-OFFLINE-4.png           NaN   \n",
              "3        NaN  /full-fundus/OIA-ODIR-TEST-OFFLINE-5.png           NaN   \n",
              "4        NaN  /full-fundus/OIA-ODIR-TEST-OFFLINE-6.png           NaN   \n",
              "\n",
              "  fundus_oc_seg bv_seg  ... cdr_expert4 refractive_dioptre_1  \\\n",
              "0           NaN    NaN  ...         NaN                  NaN   \n",
              "1           NaN    NaN  ...         NaN                  NaN   \n",
              "2           NaN    NaN  ...         NaN                  NaN   \n",
              "3           NaN    NaN  ...         NaN                  NaN   \n",
              "4           NaN    NaN  ...         NaN                  NaN   \n",
              "\n",
              "  refractive_dioptre_2 refractive_astigmatism phakic_or_pseudophakic  \\\n",
              "0                  NaN                    NaN                    NaN   \n",
              "1                  NaN                    NaN                    NaN   \n",
              "2                  NaN                    NaN                    NaN   \n",
              "3                  NaN                    NaN                    NaN   \n",
              "4                  NaN                    NaN                    NaN   \n",
              "\n",
              "  iop_perkins  iop_pneumatic  pachymetry axial_length  \\\n",
              "0         NaN            NaN         NaN          NaN   \n",
              "1         NaN            NaN         NaN          NaN   \n",
              "2         NaN            NaN         NaN          NaN   \n",
              "3         NaN            NaN         NaN          NaN   \n",
              "4         NaN            NaN         NaN          NaN   \n",
              "\n",
              "   visual_field_mean_defect  \n",
              "0                       NaN  \n",
              "1                       NaN  \n",
              "2                       NaN  \n",
              "3                       NaN  \n",
              "4                       NaN  \n",
              "\n",
              "[5 rows x 48 columns]"
            ],
            "text/html": [
              "\n",
              "  <div id=\"df-c6f5ae8e-a3de-4655-b0a5-9929e5d9f014\" class=\"colab-df-container\">\n",
              "    <div>\n",
              "<style scoped>\n",
              "    .dataframe tbody tr th:only-of-type {\n",
              "        vertical-align: middle;\n",
              "    }\n",
              "\n",
              "    .dataframe tbody tr th {\n",
              "        vertical-align: top;\n",
              "    }\n",
              "\n",
              "    .dataframe thead th {\n",
              "        text-align: right;\n",
              "    }\n",
              "</style>\n",
              "<table border=\"1\" class=\"dataframe\">\n",
              "  <thead>\n",
              "    <tr style=\"text-align: right;\">\n",
              "      <th></th>\n",
              "      <th>names</th>\n",
              "      <th>types</th>\n",
              "      <th>type_expanded</th>\n",
              "      <th>isColor</th>\n",
              "      <th>original_name</th>\n",
              "      <th>patient_id</th>\n",
              "      <th>fundus</th>\n",
              "      <th>fundus_od_seg</th>\n",
              "      <th>fundus_oc_seg</th>\n",
              "      <th>bv_seg</th>\n",
              "      <th>...</th>\n",
              "      <th>cdr_expert4</th>\n",
              "      <th>refractive_dioptre_1</th>\n",
              "      <th>refractive_dioptre_2</th>\n",
              "      <th>refractive_astigmatism</th>\n",
              "      <th>phakic_or_pseudophakic</th>\n",
              "      <th>iop_perkins</th>\n",
              "      <th>iop_pneumatic</th>\n",
              "      <th>pachymetry</th>\n",
              "      <th>axial_length</th>\n",
              "      <th>visual_field_mean_defect</th>\n",
              "    </tr>\n",
              "  </thead>\n",
              "  <tbody>\n",
              "    <tr>\n",
              "      <th>0</th>\n",
              "      <td>OIA-ODIR-TEST-OFFLINE-1</td>\n",
              "      <td>0</td>\n",
              "      <td>NaN</td>\n",
              "      <td>1</td>\n",
              "      <td>1029_right.jpg</td>\n",
              "      <td>NaN</td>\n",
              "      <td>/full-fundus/OIA-ODIR-TEST-OFFLINE-1.png</td>\n",
              "      <td>NaN</td>\n",
              "      <td>NaN</td>\n",
              "      <td>NaN</td>\n",
              "      <td>...</td>\n",
              "      <td>NaN</td>\n",
              "      <td>NaN</td>\n",
              "      <td>NaN</td>\n",
              "      <td>NaN</td>\n",
              "      <td>NaN</td>\n",
              "      <td>NaN</td>\n",
              "      <td>NaN</td>\n",
              "      <td>NaN</td>\n",
              "      <td>NaN</td>\n",
              "      <td>NaN</td>\n",
              "    </tr>\n",
              "    <tr>\n",
              "      <th>1</th>\n",
              "      <td>OIA-ODIR-TEST-OFFLINE-2</td>\n",
              "      <td>0</td>\n",
              "      <td>NaN</td>\n",
              "      <td>1</td>\n",
              "      <td>1049_left.jpg</td>\n",
              "      <td>NaN</td>\n",
              "      <td>/full-fundus/OIA-ODIR-TEST-OFFLINE-2.png</td>\n",
              "      <td>NaN</td>\n",
              "      <td>NaN</td>\n",
              "      <td>NaN</td>\n",
              "      <td>...</td>\n",
              "      <td>NaN</td>\n",
              "      <td>NaN</td>\n",
              "      <td>NaN</td>\n",
              "      <td>NaN</td>\n",
              "      <td>NaN</td>\n",
              "      <td>NaN</td>\n",
              "      <td>NaN</td>\n",
              "      <td>NaN</td>\n",
              "      <td>NaN</td>\n",
              "      <td>NaN</td>\n",
              "    </tr>\n",
              "    <tr>\n",
              "      <th>2</th>\n",
              "      <td>OIA-ODIR-TEST-OFFLINE-4</td>\n",
              "      <td>0</td>\n",
              "      <td>NaN</td>\n",
              "      <td>1</td>\n",
              "      <td>1128_left.jpg</td>\n",
              "      <td>NaN</td>\n",
              "      <td>/full-fundus/OIA-ODIR-TEST-OFFLINE-4.png</td>\n",
              "      <td>NaN</td>\n",
              "      <td>NaN</td>\n",
              "      <td>NaN</td>\n",
              "      <td>...</td>\n",
              "      <td>NaN</td>\n",
              "      <td>NaN</td>\n",
              "      <td>NaN</td>\n",
              "      <td>NaN</td>\n",
              "      <td>NaN</td>\n",
              "      <td>NaN</td>\n",
              "      <td>NaN</td>\n",
              "      <td>NaN</td>\n",
              "      <td>NaN</td>\n",
              "      <td>NaN</td>\n",
              "    </tr>\n",
              "    <tr>\n",
              "      <th>3</th>\n",
              "      <td>OIA-ODIR-TEST-OFFLINE-5</td>\n",
              "      <td>0</td>\n",
              "      <td>NaN</td>\n",
              "      <td>1</td>\n",
              "      <td>1179_right.jpg</td>\n",
              "      <td>NaN</td>\n",
              "      <td>/full-fundus/OIA-ODIR-TEST-OFFLINE-5.png</td>\n",
              "      <td>NaN</td>\n",
              "      <td>NaN</td>\n",
              "      <td>NaN</td>\n",
              "      <td>...</td>\n",
              "      <td>NaN</td>\n",
              "      <td>NaN</td>\n",
              "      <td>NaN</td>\n",
              "      <td>NaN</td>\n",
              "      <td>NaN</td>\n",
              "      <td>NaN</td>\n",
              "      <td>NaN</td>\n",
              "      <td>NaN</td>\n",
              "      <td>NaN</td>\n",
              "      <td>NaN</td>\n",
              "    </tr>\n",
              "    <tr>\n",
              "      <th>4</th>\n",
              "      <td>OIA-ODIR-TEST-OFFLINE-6</td>\n",
              "      <td>0</td>\n",
              "      <td>NaN</td>\n",
              "      <td>1</td>\n",
              "      <td>1180_left.jpg</td>\n",
              "      <td>NaN</td>\n",
              "      <td>/full-fundus/OIA-ODIR-TEST-OFFLINE-6.png</td>\n",
              "      <td>NaN</td>\n",
              "      <td>NaN</td>\n",
              "      <td>NaN</td>\n",
              "      <td>...</td>\n",
              "      <td>NaN</td>\n",
              "      <td>NaN</td>\n",
              "      <td>NaN</td>\n",
              "      <td>NaN</td>\n",
              "      <td>NaN</td>\n",
              "      <td>NaN</td>\n",
              "      <td>NaN</td>\n",
              "      <td>NaN</td>\n",
              "      <td>NaN</td>\n",
              "      <td>NaN</td>\n",
              "    </tr>\n",
              "  </tbody>\n",
              "</table>\n",
              "<p>5 rows × 48 columns</p>\n",
              "</div>\n",
              "    <div class=\"colab-df-buttons\">\n",
              "\n",
              "  <div class=\"colab-df-container\">\n",
              "    <button class=\"colab-df-convert\" onclick=\"convertToInteractive('df-c6f5ae8e-a3de-4655-b0a5-9929e5d9f014')\"\n",
              "            title=\"Convert this dataframe to an interactive table.\"\n",
              "            style=\"display:none;\">\n",
              "\n",
              "  <svg xmlns=\"http://www.w3.org/2000/svg\" height=\"24px\" viewBox=\"0 -960 960 960\">\n",
              "    <path d=\"M120-120v-720h720v720H120Zm60-500h600v-160H180v160Zm220 220h160v-160H400v160Zm0 220h160v-160H400v160ZM180-400h160v-160H180v160Zm440 0h160v-160H620v160ZM180-180h160v-160H180v160Zm440 0h160v-160H620v160Z\"/>\n",
              "  </svg>\n",
              "    </button>\n",
              "\n",
              "  <style>\n",
              "    .colab-df-container {\n",
              "      display:flex;\n",
              "      gap: 12px;\n",
              "    }\n",
              "\n",
              "    .colab-df-convert {\n",
              "      background-color: #E8F0FE;\n",
              "      border: none;\n",
              "      border-radius: 50%;\n",
              "      cursor: pointer;\n",
              "      display: none;\n",
              "      fill: #1967D2;\n",
              "      height: 32px;\n",
              "      padding: 0 0 0 0;\n",
              "      width: 32px;\n",
              "    }\n",
              "\n",
              "    .colab-df-convert:hover {\n",
              "      background-color: #E2EBFA;\n",
              "      box-shadow: 0px 1px 2px rgba(60, 64, 67, 0.3), 0px 1px 3px 1px rgba(60, 64, 67, 0.15);\n",
              "      fill: #174EA6;\n",
              "    }\n",
              "\n",
              "    .colab-df-buttons div {\n",
              "      margin-bottom: 4px;\n",
              "    }\n",
              "\n",
              "    [theme=dark] .colab-df-convert {\n",
              "      background-color: #3B4455;\n",
              "      fill: #D2E3FC;\n",
              "    }\n",
              "\n",
              "    [theme=dark] .colab-df-convert:hover {\n",
              "      background-color: #434B5C;\n",
              "      box-shadow: 0px 1px 3px 1px rgba(0, 0, 0, 0.15);\n",
              "      filter: drop-shadow(0px 1px 2px rgba(0, 0, 0, 0.3));\n",
              "      fill: #FFFFFF;\n",
              "    }\n",
              "  </style>\n",
              "\n",
              "    <script>\n",
              "      const buttonEl =\n",
              "        document.querySelector('#df-c6f5ae8e-a3de-4655-b0a5-9929e5d9f014 button.colab-df-convert');\n",
              "      buttonEl.style.display =\n",
              "        google.colab.kernel.accessAllowed ? 'block' : 'none';\n",
              "\n",
              "      async function convertToInteractive(key) {\n",
              "        const element = document.querySelector('#df-c6f5ae8e-a3de-4655-b0a5-9929e5d9f014');\n",
              "        const dataTable =\n",
              "          await google.colab.kernel.invokeFunction('convertToInteractive',\n",
              "                                                    [key], {});\n",
              "        if (!dataTable) return;\n",
              "\n",
              "        const docLinkHtml = 'Like what you see? Visit the ' +\n",
              "          '<a target=\"_blank\" href=https://colab.research.google.com/notebooks/data_table.ipynb>data table notebook</a>'\n",
              "          + ' to learn more about interactive tables.';\n",
              "        element.innerHTML = '';\n",
              "        dataTable['output_type'] = 'display_data';\n",
              "        await google.colab.output.renderOutput(dataTable, element);\n",
              "        const docLink = document.createElement('div');\n",
              "        docLink.innerHTML = docLinkHtml;\n",
              "        element.appendChild(docLink);\n",
              "      }\n",
              "    </script>\n",
              "  </div>\n",
              "\n",
              "\n",
              "<div id=\"df-732541ab-9cae-403a-9f14-a0d2a6c99ede\">\n",
              "  <button class=\"colab-df-quickchart\" onclick=\"quickchart('df-732541ab-9cae-403a-9f14-a0d2a6c99ede')\"\n",
              "            title=\"Suggest charts.\"\n",
              "            style=\"display:none;\">\n",
              "\n",
              "<svg xmlns=\"http://www.w3.org/2000/svg\" height=\"24px\"viewBox=\"0 0 24 24\"\n",
              "     width=\"24px\">\n",
              "    <g>\n",
              "        <path d=\"M19 3H5c-1.1 0-2 .9-2 2v14c0 1.1.9 2 2 2h14c1.1 0 2-.9 2-2V5c0-1.1-.9-2-2-2zM9 17H7v-7h2v7zm4 0h-2V7h2v10zm4 0h-2v-4h2v4z\"/>\n",
              "    </g>\n",
              "</svg>\n",
              "  </button>\n",
              "\n",
              "<style>\n",
              "  .colab-df-quickchart {\n",
              "      --bg-color: #E8F0FE;\n",
              "      --fill-color: #1967D2;\n",
              "      --hover-bg-color: #E2EBFA;\n",
              "      --hover-fill-color: #174EA6;\n",
              "      --disabled-fill-color: #AAA;\n",
              "      --disabled-bg-color: #DDD;\n",
              "  }\n",
              "\n",
              "  [theme=dark] .colab-df-quickchart {\n",
              "      --bg-color: #3B4455;\n",
              "      --fill-color: #D2E3FC;\n",
              "      --hover-bg-color: #434B5C;\n",
              "      --hover-fill-color: #FFFFFF;\n",
              "      --disabled-bg-color: #3B4455;\n",
              "      --disabled-fill-color: #666;\n",
              "  }\n",
              "\n",
              "  .colab-df-quickchart {\n",
              "    background-color: var(--bg-color);\n",
              "    border: none;\n",
              "    border-radius: 50%;\n",
              "    cursor: pointer;\n",
              "    display: none;\n",
              "    fill: var(--fill-color);\n",
              "    height: 32px;\n",
              "    padding: 0;\n",
              "    width: 32px;\n",
              "  }\n",
              "\n",
              "  .colab-df-quickchart:hover {\n",
              "    background-color: var(--hover-bg-color);\n",
              "    box-shadow: 0 1px 2px rgba(60, 64, 67, 0.3), 0 1px 3px 1px rgba(60, 64, 67, 0.15);\n",
              "    fill: var(--button-hover-fill-color);\n",
              "  }\n",
              "\n",
              "  .colab-df-quickchart-complete:disabled,\n",
              "  .colab-df-quickchart-complete:disabled:hover {\n",
              "    background-color: var(--disabled-bg-color);\n",
              "    fill: var(--disabled-fill-color);\n",
              "    box-shadow: none;\n",
              "  }\n",
              "\n",
              "  .colab-df-spinner {\n",
              "    border: 2px solid var(--fill-color);\n",
              "    border-color: transparent;\n",
              "    border-bottom-color: var(--fill-color);\n",
              "    animation:\n",
              "      spin 1s steps(1) infinite;\n",
              "  }\n",
              "\n",
              "  @keyframes spin {\n",
              "    0% {\n",
              "      border-color: transparent;\n",
              "      border-bottom-color: var(--fill-color);\n",
              "      border-left-color: var(--fill-color);\n",
              "    }\n",
              "    20% {\n",
              "      border-color: transparent;\n",
              "      border-left-color: var(--fill-color);\n",
              "      border-top-color: var(--fill-color);\n",
              "    }\n",
              "    30% {\n",
              "      border-color: transparent;\n",
              "      border-left-color: var(--fill-color);\n",
              "      border-top-color: var(--fill-color);\n",
              "      border-right-color: var(--fill-color);\n",
              "    }\n",
              "    40% {\n",
              "      border-color: transparent;\n",
              "      border-right-color: var(--fill-color);\n",
              "      border-top-color: var(--fill-color);\n",
              "    }\n",
              "    60% {\n",
              "      border-color: transparent;\n",
              "      border-right-color: var(--fill-color);\n",
              "    }\n",
              "    80% {\n",
              "      border-color: transparent;\n",
              "      border-right-color: var(--fill-color);\n",
              "      border-bottom-color: var(--fill-color);\n",
              "    }\n",
              "    90% {\n",
              "      border-color: transparent;\n",
              "      border-bottom-color: var(--fill-color);\n",
              "    }\n",
              "  }\n",
              "</style>\n",
              "\n",
              "  <script>\n",
              "    async function quickchart(key) {\n",
              "      const quickchartButtonEl =\n",
              "        document.querySelector('#' + key + ' button');\n",
              "      quickchartButtonEl.disabled = true;  // To prevent multiple clicks.\n",
              "      quickchartButtonEl.classList.add('colab-df-spinner');\n",
              "      try {\n",
              "        const charts = await google.colab.kernel.invokeFunction(\n",
              "            'suggestCharts', [key], {});\n",
              "      } catch (error) {\n",
              "        console.error('Error during call to suggestCharts:', error);\n",
              "      }\n",
              "      quickchartButtonEl.classList.remove('colab-df-spinner');\n",
              "      quickchartButtonEl.classList.add('colab-df-quickchart-complete');\n",
              "    }\n",
              "    (() => {\n",
              "      let quickchartButtonEl =\n",
              "        document.querySelector('#df-732541ab-9cae-403a-9f14-a0d2a6c99ede button');\n",
              "      quickchartButtonEl.style.display =\n",
              "        google.colab.kernel.accessAllowed ? 'block' : 'none';\n",
              "    })();\n",
              "  </script>\n",
              "</div>\n",
              "    </div>\n",
              "  </div>\n"
            ]
          },
          "metadata": {},
          "execution_count": 5
        }
      ]
    },
    {
      "cell_type": "code",
      "source": [
        "positive_count = sum([i for i in dataframe[\"types\"] == 1])\n",
        "negative_count = sum([i for i in dataframe[\"types\"] == 0])\n",
        "suspect_count = sum([i for i in dataframe[\"types\"] == -1])\n",
        "\n",
        "print(f\"Number of Glaucoma positive cases in the dataset = {positive_count}\")\n",
        "print(f\"Number if Glaucoma negative cases in the dataset = {negative_count}\")\n",
        "print(f\"Number of Glaucoma suspect cases in the dataset = {suspect_count}\")"
      ],
      "metadata": {
        "colab": {
          "base_uri": "https://localhost:8080/"
        },
        "id": "etSMozjglVcu",
        "outputId": "35a692e6-353b-4ca1-fec3-04a9e884e02a"
      },
      "execution_count": 6,
      "outputs": [
        {
          "output_type": "stream",
          "name": "stdout",
          "text": [
            "Number of Glaucoma positive cases in the dataset = 4767\n",
            "Number if Glaucoma negative cases in the dataset = 7549\n",
            "Number of Glaucoma suspect cases in the dataset = 133\n"
          ]
        }
      ]
    },
    {
      "cell_type": "code",
      "source": [
        "import pathlib\n",
        "\n",
        "original_fundus_dir = pathlib.Path(\"full-fundus/full-fundus\")"
      ],
      "metadata": {
        "id": "N3DQZOTcD4dm"
      },
      "execution_count": 7,
      "outputs": []
    },
    {
      "cell_type": "code",
      "source": [
        "orginal_dir_all_images = len([images for images in original_fundus_dir.glob(\"*\")])\n",
        "orginal_dir_all_images"
      ],
      "metadata": {
        "colab": {
          "base_uri": "https://localhost:8080/"
        },
        "id": "NjBiF7pNEK9V",
        "outputId": "6874726e-2082-4f94-ad28-c425783838b2"
      },
      "execution_count": 8,
      "outputs": [
        {
          "output_type": "execute_result",
          "data": {
            "text/plain": [
              "12449"
            ]
          },
          "metadata": {},
          "execution_count": 8
        }
      ]
    },
    {
      "cell_type": "code",
      "source": [
        "import os\n",
        "\n",
        "image_path = os.path.join(original_fundus_dir, \"OIA-ODIR-TEST-OFFLINE-1.png\")\n",
        "\n",
        "if os.path.exists(image_path):\n",
        "    print(f\"Image exists\")\n",
        "else:\n",
        "    print(f\"Image does not exist\")"
      ],
      "metadata": {
        "colab": {
          "base_uri": "https://localhost:8080/"
        },
        "id": "OjneHKyUE766",
        "outputId": "46f5ea3f-12c7-4f66-d0fb-c7624d6be8de"
      },
      "execution_count": 9,
      "outputs": [
        {
          "output_type": "stream",
          "name": "stdout",
          "text": [
            "Image exists\n"
          ]
        }
      ]
    },
    {
      "cell_type": "code",
      "source": [
        "import shutil\n",
        "\n",
        "categorized_dir_neg = pathlib.Path(\"Fundus/Negative\")\n",
        "categorized_dir_pos = pathlib.Path(\"Fundus/Positive\")\n",
        "\n",
        "os.makedirs(categorized_dir_neg, exist_ok = True)\n",
        "os.makedirs(categorized_dir_pos, exist_ok = True)\n",
        "\n",
        "for index, row in dataframe.iterrows():\n",
        "  src_path = \"full-fundus\" + row[\"fundus\"]\n",
        "\n",
        "  if row[\"types\"] == 0:\n",
        "    dst_path = categorized_dir_neg / pathlib.Path(row[\"fundus\"]).name\n",
        "  elif row[\"types\"] == 1:\n",
        "     dst_path = categorized_dir_pos / pathlib.Path(row[\"fundus\"]).name\n",
        "\n",
        "  shutil.copyfile(src=src_path, dst=dst_path)"
      ],
      "metadata": {
        "id": "Cvw3TqHul73-"
      },
      "execution_count": 10,
      "outputs": []
    },
    {
      "cell_type": "code",
      "source": [
        "print(f\"Negative count : {len([images for images in categorized_dir_neg.glob('*')])}\")\n",
        "print(f\"Positive count : {len([images for images in categorized_dir_pos.glob('*')])}\")"
      ],
      "metadata": {
        "colab": {
          "base_uri": "https://localhost:8080/"
        },
        "id": "HAt2__QJxu-P",
        "outputId": "114098b7-e378-4359-ea7c-4102665b35bb"
      },
      "execution_count": 11,
      "outputs": [
        {
          "output_type": "stream",
          "name": "stdout",
          "text": [
            "Negative count : 7549\n",
            "Positive count : 4767\n"
          ]
        }
      ]
    },
    {
      "cell_type": "code",
      "source": [
        "# 2500 test, 1000 val, 1000 test\n",
        "\n",
        "cat_dir = pathlib.Path(\"Fundus\")\n",
        "new_base_dir = pathlib.Path(\"Glaucoma_Fundus_Small\")\n",
        "\n",
        "def makeSubset(subset_name, start_index, end_index):\n",
        "    for category in (\"Negative\", \"Positive\"):\n",
        "        dir = new_base_dir / subset_name / category\n",
        "        os.makedirs(dir, exist_ok=True)\n",
        "        src_filenames = [filename for filename in os.listdir(cat_dir / category) if filename.endswith(\".png\")]\n",
        "        for index, src_filenames in enumerate(src_filenames[start_index : end_index]):\n",
        "          dst_filename = f\"{category}.{index}.png\"\n",
        "          src_path = cat_dir / category / src_filenames\n",
        "          dst_path = dir / dst_filename\n",
        "          shutil.copyfile(src=src_path, dst=dst_path)\n",
        "\n",
        "makeSubset(\"train\", start_index=0, end_index=2500)\n",
        "makeSubset(\"validation\", start_index=2500, end_index=3500)\n",
        "makeSubset(\"test\", start_index=3500, end_index=4500)"
      ],
      "metadata": {
        "id": "Zvpx3sjvzbgB"
      },
      "execution_count": 12,
      "outputs": []
    },
    {
      "cell_type": "code",
      "source": [
        "print(f\"Test folder Negative count: {len(list((new_base_dir / 'test' / 'Negative').glob('*')))}\")\n",
        "print(f\"Test folder Positive count: {len(list((new_base_dir / 'test' / 'Positive').glob('*')))}\")\n",
        "\n",
        "print(f\"Train folder Negative count: {len(list((new_base_dir / 'train' / 'Negative').glob('*')))}\")\n",
        "print(f\"Train folder Positive count: {len(list((new_base_dir / 'train' / 'Positive').glob('*')))}\")\n",
        "\n",
        "print(f\"Validation folder Negative count: {len(list((new_base_dir / 'validation' / 'Negative').glob('*')))}\")\n",
        "print(f\"Validation folder Positive count: {len(list((new_base_dir / 'validation' / 'Positive').glob('*')))}\")"
      ],
      "metadata": {
        "colab": {
          "base_uri": "https://localhost:8080/"
        },
        "id": "R7nuOfhRtpJ_",
        "outputId": "74f8902e-7aa4-4106-9dec-40ee7632dc85"
      },
      "execution_count": 13,
      "outputs": [
        {
          "output_type": "stream",
          "name": "stdout",
          "text": [
            "Test folder Negative count: 1000\n",
            "Test folder Positive count: 1000\n",
            "Train folder Negative count: 2500\n",
            "Train folder Positive count: 2500\n",
            "Validation folder Negative count: 1000\n",
            "Validation folder Positive count: 1000\n"
          ]
        }
      ]
    },
    {
      "cell_type": "code",
      "source": [
        "import tensorflow\n",
        "from tensorflow.keras import layers\n",
        "from tensorflow import keras\n",
        "\n",
        "conv_base = keras.applications.vgg16.VGG16(\n",
        " weights=\"imagenet\",\n",
        " include_top=False)\n",
        "conv_base.trainable = False"
      ],
      "metadata": {
        "colab": {
          "base_uri": "https://localhost:8080/"
        },
        "id": "29jt5R8NqcNV",
        "outputId": "25317832-8140-4219-dbfe-6f6c66b2a187"
      },
      "execution_count": 14,
      "outputs": [
        {
          "output_type": "stream",
          "name": "stdout",
          "text": [
            "Downloading data from https://storage.googleapis.com/tensorflow/keras-applications/vgg16/vgg16_weights_tf_dim_ordering_tf_kernels_notop.h5\n",
            "58889256/58889256 [==============================] - 0s 0us/step\n"
          ]
        }
      ]
    },
    {
      "cell_type": "code",
      "source": [
        "data_augmentation = keras.Sequential([\n",
        " layers.RandomFlip(\"horizontal\"),\n",
        " layers.RandomRotation(0.1),\n",
        " layers.RandomZoom(0.2),\n",
        " ])"
      ],
      "metadata": {
        "id": "I0hsASgTt-Ww"
      },
      "execution_count": 15,
      "outputs": []
    },
    {
      "cell_type": "code",
      "source": [
        "inputs = keras.Input(shape=(180, 180, 3))\n",
        "x = data_augmentation(inputs)\n",
        "x = layers.Rescaling(1./255)(x)\n",
        "x = layers.Conv2D(filters=32, kernel_size=3, activation=\"relu\")(x)\n",
        "x = layers.MaxPooling2D(pool_size=2)(x)\n",
        "x = layers.Conv2D(filters=64, kernel_size=3, activation=\"relu\")(x)\n",
        "x = layers.MaxPooling2D(pool_size=2)(x)\n",
        "x = layers.Conv2D(filters=128, kernel_size=3, activation=\"relu\")(x)\n",
        "x = layers.MaxPooling2D(pool_size=2)(x)\n",
        "x = layers.Conv2D(filters=256, kernel_size=3, activation=\"relu\")(x)\n",
        "x = layers.MaxPooling2D(pool_size=2)(x)\n",
        "x = layers.Conv2D(filters=256, kernel_size=3, activation=\"relu\")(x)\n",
        "x = layers.Flatten()(x)\n",
        "outputs = layers.Dense(1, activation=\"sigmoid\")(x)\n",
        "# inputs = keras.Input(shape=(180, 180, 3))\n",
        "# x = data_augmentation(inputs)\n",
        "# x = keras.applications.vgg16.preprocess_input(x)\n",
        "# x = conv_base(x)\n",
        "# x = layers.Flatten()(x)\n",
        "# x = layers.Dense(256)(x)\n",
        "# x = layers.Dropout(0.5)(x)\n",
        "# outputs = layers.Dense(1, activation=\"sigmoid\")(x)\n",
        "model = keras.Model(inputs=inputs, outputs=outputs)"
      ],
      "metadata": {
        "id": "OI261rW1tMWX"
      },
      "execution_count": 16,
      "outputs": []
    },
    {
      "cell_type": "code",
      "source": [
        "model.summary()"
      ],
      "metadata": {
        "colab": {
          "base_uri": "https://localhost:8080/"
        },
        "id": "BfHQDJghuItK",
        "outputId": "a165d6ae-59e1-40a4-de3f-bfd6b563e2b5"
      },
      "execution_count": 17,
      "outputs": [
        {
          "output_type": "stream",
          "name": "stdout",
          "text": [
            "Model: \"model\"\n",
            "_________________________________________________________________\n",
            " Layer (type)                Output Shape              Param #   \n",
            "=================================================================\n",
            " input_2 (InputLayer)        [(None, 180, 180, 3)]     0         \n",
            "                                                                 \n",
            " sequential (Sequential)     (None, 180, 180, 3)       0         \n",
            "                                                                 \n",
            " rescaling (Rescaling)       (None, 180, 180, 3)       0         \n",
            "                                                                 \n",
            " conv2d (Conv2D)             (None, 178, 178, 32)      896       \n",
            "                                                                 \n",
            " max_pooling2d (MaxPooling2D  (None, 89, 89, 32)       0         \n",
            " )                                                               \n",
            "                                                                 \n",
            " conv2d_1 (Conv2D)           (None, 87, 87, 64)        18496     \n",
            "                                                                 \n",
            " max_pooling2d_1 (MaxPooling  (None, 43, 43, 64)       0         \n",
            " 2D)                                                             \n",
            "                                                                 \n",
            " conv2d_2 (Conv2D)           (None, 41, 41, 128)       73856     \n",
            "                                                                 \n",
            " max_pooling2d_2 (MaxPooling  (None, 20, 20, 128)      0         \n",
            " 2D)                                                             \n",
            "                                                                 \n",
            " conv2d_3 (Conv2D)           (None, 18, 18, 256)       295168    \n",
            "                                                                 \n",
            " max_pooling2d_3 (MaxPooling  (None, 9, 9, 256)        0         \n",
            " 2D)                                                             \n",
            "                                                                 \n",
            " conv2d_4 (Conv2D)           (None, 7, 7, 256)         590080    \n",
            "                                                                 \n",
            " flatten (Flatten)           (None, 12544)             0         \n",
            "                                                                 \n",
            " dense (Dense)               (None, 1)                 12545     \n",
            "                                                                 \n",
            "=================================================================\n",
            "Total params: 991,041\n",
            "Trainable params: 991,041\n",
            "Non-trainable params: 0\n",
            "_________________________________________________________________\n"
          ]
        }
      ]
    },
    {
      "cell_type": "code",
      "source": [
        "model.compile(loss=\"binary_crossentropy\",\n",
        "              optimizer=\"rmsprop\",\n",
        "              metrics=[\"accuracy\"])"
      ],
      "metadata": {
        "id": "LnBF9K4BuPEw"
      },
      "execution_count": 18,
      "outputs": []
    },
    {
      "cell_type": "code",
      "source": [
        "from tensorflow.keras.utils import image_dataset_from_directory\n",
        "\n",
        "train_dataset = image_dataset_from_directory(\n",
        " new_base_dir / \"train\",\n",
        " image_size=(180, 180),\n",
        " batch_size=50)\n",
        "\n",
        "validation_dataset = image_dataset_from_directory(\n",
        " new_base_dir / \"validation\",\n",
        " image_size=(180, 180),\n",
        " batch_size=50)\n",
        "\n",
        "test_dataset = image_dataset_from_directory(\n",
        " new_base_dir / \"test\",\n",
        " image_size=(180, 180),\n",
        " batch_size=50)"
      ],
      "metadata": {
        "colab": {
          "base_uri": "https://localhost:8080/"
        },
        "id": "473swOgRulq0",
        "outputId": "a513a3ce-061a-47fb-e797-2b767ada75f9"
      },
      "execution_count": 24,
      "outputs": [
        {
          "output_type": "stream",
          "name": "stdout",
          "text": [
            "Found 5000 files belonging to 2 classes.\n",
            "Found 2000 files belonging to 2 classes.\n",
            "Found 2000 files belonging to 2 classes.\n"
          ]
        }
      ]
    },
    {
      "cell_type": "code",
      "source": [
        "callbacks = [\n",
        " keras.callbacks.ModelCheckpoint(\n",
        " filepath=\"feature_extraction_with_data_augmentation.keras\",\n",
        " save_best_only=True,\n",
        " monitor=\"val_loss\")\n",
        "]"
      ],
      "metadata": {
        "id": "HYBed-VruyC0"
      },
      "execution_count": 25,
      "outputs": []
    },
    {
      "cell_type": "code",
      "source": [
        "history = model.fit(\n",
        " train_dataset,\n",
        " epochs=60,\n",
        " validation_data=validation_dataset,\n",
        " callbacks=callbacks)"
      ],
      "metadata": {
        "colab": {
          "base_uri": "https://localhost:8080/"
        },
        "id": "2Fbh6xcLuy6O",
        "outputId": "5e72ac98-846d-4f75-e14d-bcac42f313af"
      },
      "execution_count": 26,
      "outputs": [
        {
          "output_type": "stream",
          "name": "stdout",
          "text": [
            "Epoch 1/60\n",
            "100/100 [==============================] - 36s 346ms/step - loss: 0.4143 - accuracy: 0.8060 - val_loss: 0.4414 - val_accuracy: 0.7820\n",
            "Epoch 2/60\n",
            "100/100 [==============================] - 36s 342ms/step - loss: 0.4033 - accuracy: 0.8114 - val_loss: 0.4509 - val_accuracy: 0.7910\n",
            "Epoch 3/60\n",
            "100/100 [==============================] - 35s 333ms/step - loss: 0.4070 - accuracy: 0.8056 - val_loss: 0.3945 - val_accuracy: 0.8150\n",
            "Epoch 4/60\n",
            "100/100 [==============================] - 35s 328ms/step - loss: 0.3951 - accuracy: 0.8146 - val_loss: 0.4249 - val_accuracy: 0.8005\n",
            "Epoch 5/60\n",
            "100/100 [==============================] - 35s 334ms/step - loss: 0.4041 - accuracy: 0.8098 - val_loss: 0.4087 - val_accuracy: 0.8050\n",
            "Epoch 6/60\n",
            "100/100 [==============================] - 36s 342ms/step - loss: 0.3883 - accuracy: 0.8154 - val_loss: 0.5002 - val_accuracy: 0.7660\n",
            "Epoch 7/60\n",
            "100/100 [==============================] - 34s 321ms/step - loss: 0.3862 - accuracy: 0.8194 - val_loss: 0.4992 - val_accuracy: 0.7690\n",
            "Epoch 8/60\n",
            "100/100 [==============================] - 36s 336ms/step - loss: 0.3875 - accuracy: 0.8166 - val_loss: 0.4227 - val_accuracy: 0.8065\n",
            "Epoch 9/60\n",
            "100/100 [==============================] - 34s 321ms/step - loss: 0.3893 - accuracy: 0.8156 - val_loss: 0.4258 - val_accuracy: 0.8090\n",
            "Epoch 10/60\n",
            "100/100 [==============================] - 35s 324ms/step - loss: 0.3850 - accuracy: 0.8212 - val_loss: 0.4218 - val_accuracy: 0.8065\n",
            "Epoch 11/60\n",
            "100/100 [==============================] - 35s 333ms/step - loss: 0.3725 - accuracy: 0.8258 - val_loss: 0.4251 - val_accuracy: 0.8105\n",
            "Epoch 12/60\n",
            "100/100 [==============================] - 36s 341ms/step - loss: 0.3800 - accuracy: 0.8216 - val_loss: 0.4061 - val_accuracy: 0.8195\n",
            "Epoch 13/60\n",
            "100/100 [==============================] - 34s 321ms/step - loss: 0.3779 - accuracy: 0.8296 - val_loss: 0.4601 - val_accuracy: 0.7900\n",
            "Epoch 14/60\n",
            "100/100 [==============================] - 36s 340ms/step - loss: 0.3712 - accuracy: 0.8344 - val_loss: 0.4017 - val_accuracy: 0.8200\n",
            "Epoch 15/60\n",
            "100/100 [==============================] - 35s 332ms/step - loss: 0.3614 - accuracy: 0.8326 - val_loss: 0.4095 - val_accuracy: 0.8185\n",
            "Epoch 16/60\n",
            "100/100 [==============================] - 36s 340ms/step - loss: 0.3627 - accuracy: 0.8348 - val_loss: 0.3988 - val_accuracy: 0.8275\n",
            "Epoch 17/60\n",
            "100/100 [==============================] - 33s 318ms/step - loss: 0.3598 - accuracy: 0.8330 - val_loss: 0.4234 - val_accuracy: 0.8195\n",
            "Epoch 18/60\n",
            "100/100 [==============================] - 35s 328ms/step - loss: 0.3590 - accuracy: 0.8322 - val_loss: 0.4223 - val_accuracy: 0.8145\n",
            "Epoch 19/60\n",
            "100/100 [==============================] - 36s 345ms/step - loss: 0.3575 - accuracy: 0.8340 - val_loss: 0.4077 - val_accuracy: 0.8205\n",
            "Epoch 20/60\n",
            "100/100 [==============================] - 35s 333ms/step - loss: 0.3552 - accuracy: 0.8404 - val_loss: 0.3921 - val_accuracy: 0.8185\n",
            "Epoch 21/60\n",
            "100/100 [==============================] - 35s 335ms/step - loss: 0.3498 - accuracy: 0.8400 - val_loss: 0.4390 - val_accuracy: 0.7970\n",
            "Epoch 22/60\n",
            "100/100 [==============================] - 35s 331ms/step - loss: 0.3408 - accuracy: 0.8434 - val_loss: 0.4605 - val_accuracy: 0.8095\n",
            "Epoch 23/60\n",
            "100/100 [==============================] - 34s 321ms/step - loss: 0.3417 - accuracy: 0.8454 - val_loss: 0.4292 - val_accuracy: 0.8040\n",
            "Epoch 24/60\n",
            "100/100 [==============================] - 35s 324ms/step - loss: 0.3479 - accuracy: 0.8414 - val_loss: 0.4327 - val_accuracy: 0.8100\n",
            "Epoch 25/60\n",
            "100/100 [==============================] - 37s 355ms/step - loss: 0.3502 - accuracy: 0.8420 - val_loss: 0.4319 - val_accuracy: 0.8140\n",
            "Epoch 26/60\n",
            "100/100 [==============================] - 35s 335ms/step - loss: 0.3446 - accuracy: 0.8440 - val_loss: 0.4199 - val_accuracy: 0.8140\n",
            "Epoch 27/60\n",
            "100/100 [==============================] - 34s 322ms/step - loss: 0.3397 - accuracy: 0.8426 - val_loss: 0.4442 - val_accuracy: 0.8175\n",
            "Epoch 28/60\n",
            "100/100 [==============================] - 35s 335ms/step - loss: 0.3267 - accuracy: 0.8484 - val_loss: 0.4800 - val_accuracy: 0.8020\n",
            "Epoch 29/60\n",
            "100/100 [==============================] - 36s 341ms/step - loss: 0.3317 - accuracy: 0.8478 - val_loss: 0.4094 - val_accuracy: 0.8270\n",
            "Epoch 30/60\n",
            "100/100 [==============================] - 37s 352ms/step - loss: 0.3222 - accuracy: 0.8538 - val_loss: 0.4022 - val_accuracy: 0.8190\n",
            "Epoch 31/60\n",
            "100/100 [==============================] - 33s 319ms/step - loss: 0.3321 - accuracy: 0.8474 - val_loss: 0.4698 - val_accuracy: 0.8055\n",
            "Epoch 32/60\n",
            "100/100 [==============================] - 35s 326ms/step - loss: 0.3342 - accuracy: 0.8434 - val_loss: 0.4721 - val_accuracy: 0.8130\n",
            "Epoch 33/60\n",
            "100/100 [==============================] - 35s 334ms/step - loss: 0.3267 - accuracy: 0.8462 - val_loss: 0.4463 - val_accuracy: 0.8115\n",
            "Epoch 34/60\n",
            "100/100 [==============================] - 35s 331ms/step - loss: 0.3192 - accuracy: 0.8570 - val_loss: 0.4616 - val_accuracy: 0.8135\n",
            "Epoch 35/60\n",
            "100/100 [==============================] - 36s 345ms/step - loss: 0.3168 - accuracy: 0.8544 - val_loss: 0.4531 - val_accuracy: 0.7980\n",
            "Epoch 36/60\n",
            "100/100 [==============================] - 36s 335ms/step - loss: 0.3187 - accuracy: 0.8548 - val_loss: 0.4208 - val_accuracy: 0.8195\n",
            "Epoch 37/60\n",
            "100/100 [==============================] - 37s 351ms/step - loss: 0.3068 - accuracy: 0.8546 - val_loss: 0.4336 - val_accuracy: 0.8220\n",
            "Epoch 38/60\n",
            "100/100 [==============================] - 35s 336ms/step - loss: 0.3162 - accuracy: 0.8562 - val_loss: 0.4419 - val_accuracy: 0.8255\n",
            "Epoch 39/60\n",
            "100/100 [==============================] - 35s 338ms/step - loss: 0.3137 - accuracy: 0.8610 - val_loss: 0.4334 - val_accuracy: 0.8260\n",
            "Epoch 40/60\n",
            "100/100 [==============================] - 36s 348ms/step - loss: 0.3036 - accuracy: 0.8580 - val_loss: 0.4976 - val_accuracy: 0.8090\n",
            "Epoch 41/60\n",
            "100/100 [==============================] - 35s 333ms/step - loss: 0.3045 - accuracy: 0.8686 - val_loss: 0.4548 - val_accuracy: 0.8255\n",
            "Epoch 42/60\n",
            "100/100 [==============================] - 35s 334ms/step - loss: 0.2998 - accuracy: 0.8664 - val_loss: 0.4735 - val_accuracy: 0.8050\n",
            "Epoch 43/60\n",
            "100/100 [==============================] - 36s 340ms/step - loss: 0.2980 - accuracy: 0.8600 - val_loss: 0.4810 - val_accuracy: 0.8100\n",
            "Epoch 44/60\n",
            "100/100 [==============================] - 33s 318ms/step - loss: 0.3013 - accuracy: 0.8694 - val_loss: 0.4308 - val_accuracy: 0.8240\n",
            "Epoch 45/60\n",
            "100/100 [==============================] - 35s 327ms/step - loss: 0.2938 - accuracy: 0.8716 - val_loss: 0.4514 - val_accuracy: 0.8155\n",
            "Epoch 46/60\n",
            "100/100 [==============================] - 35s 331ms/step - loss: 0.2933 - accuracy: 0.8686 - val_loss: 0.4983 - val_accuracy: 0.8040\n",
            "Epoch 47/60\n",
            "100/100 [==============================] - 35s 333ms/step - loss: 0.2950 - accuracy: 0.8700 - val_loss: 0.4731 - val_accuracy: 0.8145\n",
            "Epoch 48/60\n",
            "100/100 [==============================] - 33s 315ms/step - loss: 0.2888 - accuracy: 0.8650 - val_loss: 0.4906 - val_accuracy: 0.8105\n",
            "Epoch 49/60\n",
            "100/100 [==============================] - 35s 331ms/step - loss: 0.2952 - accuracy: 0.8666 - val_loss: 0.4869 - val_accuracy: 0.8180\n",
            "Epoch 50/60\n",
            "100/100 [==============================] - 36s 342ms/step - loss: 0.2971 - accuracy: 0.8676 - val_loss: 0.4868 - val_accuracy: 0.8150\n",
            "Epoch 51/60\n",
            "100/100 [==============================] - 35s 330ms/step - loss: 0.2967 - accuracy: 0.8696 - val_loss: 0.4831 - val_accuracy: 0.8155\n",
            "Epoch 52/60\n",
            "100/100 [==============================] - 35s 338ms/step - loss: 0.2891 - accuracy: 0.8672 - val_loss: 0.4498 - val_accuracy: 0.8215\n",
            "Epoch 53/60\n",
            "100/100 [==============================] - 35s 332ms/step - loss: 0.3008 - accuracy: 0.8666 - val_loss: 0.4423 - val_accuracy: 0.8260\n",
            "Epoch 54/60\n",
            "100/100 [==============================] - 34s 330ms/step - loss: 0.2832 - accuracy: 0.8776 - val_loss: 0.4800 - val_accuracy: 0.8200\n",
            "Epoch 55/60\n",
            "100/100 [==============================] - 34s 329ms/step - loss: 0.3011 - accuracy: 0.8688 - val_loss: 0.4885 - val_accuracy: 0.8075\n",
            "Epoch 56/60\n",
            "100/100 [==============================] - 36s 342ms/step - loss: 0.2935 - accuracy: 0.8694 - val_loss: 0.5188 - val_accuracy: 0.8185\n",
            "Epoch 57/60\n",
            "100/100 [==============================] - 33s 317ms/step - loss: 0.2882 - accuracy: 0.8734 - val_loss: 0.5009 - val_accuracy: 0.8015\n",
            "Epoch 58/60\n",
            "100/100 [==============================] - 34s 324ms/step - loss: 0.2776 - accuracy: 0.8730 - val_loss: 0.5030 - val_accuracy: 0.8025\n",
            "Epoch 59/60\n",
            "100/100 [==============================] - 35s 339ms/step - loss: 0.2866 - accuracy: 0.8726 - val_loss: 0.4989 - val_accuracy: 0.8125\n",
            "Epoch 60/60\n",
            "100/100 [==============================] - 35s 338ms/step - loss: 0.2950 - accuracy: 0.8662 - val_loss: 0.4916 - val_accuracy: 0.8200\n"
          ]
        }
      ]
    },
    {
      "cell_type": "code",
      "source": [
        "import matplotlib.pyplot as plt\n",
        "accuracy = history.history[\"accuracy\"]\n",
        "val_accuracy = history.history[\"val_accuracy\"]\n",
        "loss = history.history[\"loss\"]\n",
        "val_loss = history.history[\"val_loss\"]\n",
        "epochs = range(1, len(accuracy) + 1)\n",
        "plt.plot(epochs, accuracy, \"bo\", label=\"Training accuracy\")\n",
        "plt.plot(epochs, val_accuracy, \"b\", label=\"Validation accuracy\")\n",
        "plt.title(\"Training and validation accuracy\")\n",
        "plt.legend()\n",
        "plt.figure()\n",
        "plt.plot(epochs, loss, \"bo\", label=\"Training loss\")\n",
        "plt.plot(epochs, val_loss, \"b\", label=\"Validation loss\")\n",
        "plt.title(\"Training and validation loss\")\n",
        "plt.legend()\n",
        "plt.show()"
      ],
      "metadata": {
        "colab": {
          "base_uri": "https://localhost:8080/",
          "height": 887
        },
        "id": "On8PDU5c0KQ-",
        "outputId": "b6cf5047-7b8a-430b-c2e7-6cc07f79c924"
      },
      "execution_count": 27,
      "outputs": [
        {
          "output_type": "display_data",
          "data": {
            "text/plain": [
              "<Figure size 640x480 with 1 Axes>"
            ],
            "image/png": "[encoded data removed]"
          },
          "metadata": {}
        },
        {
          "output_type": "display_data",
          "data": {
            "text/plain": [
              "<Figure size 640x480 with 1 Axes>"
            ],
            "image/png": "[encoded data removed]"
          },
          "metadata": {}
        }
      ]
    },
    {
      "cell_type": "code",
      "source": [
        "test_model = keras.models.load_model(\"feature_extraction_with_data_augmentation.keras\")\n",
        "test_loss, test_acc = test_model.evaluate(test_dataset)\n",
        "print(f\"Test accuracy: {test_acc:.3f}\")"
      ],
      "metadata": {
        "colab": {
          "base_uri": "https://localhost:8080/"
        },
        "id": "Psjm-Vuq0Lg1",
        "outputId": "591e8073-4072-46df-9464-e3fe6757c1a8"
      },
      "execution_count": 28,
      "outputs": [
        {
          "output_type": "stream",
          "name": "stdout",
          "text": [
            "40/40 [==============================] - 9s 170ms/step - loss: 0.4491 - accuracy: 0.8160\n",
            "Test accuracy: 0.816\n"
          ]
        }
      ]
    }
  ]
}